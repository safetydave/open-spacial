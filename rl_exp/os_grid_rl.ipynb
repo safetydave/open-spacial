{
  "nbformat": 4,
  "nbformat_minor": 0,
  "metadata": {
    "colab": {
      "name": "os_grid_rl.ipynb",
      "provenance": [],
      "collapsed_sections": []
    },
    "kernelspec": {
      "name": "python3",
      "display_name": "Python 3"
    }
  },
  "cells": [
    {
      "cell_type": "markdown",
      "metadata": {
        "id": "jKuhlaV1Yn-_",
        "colab_type": "text"
      },
      "source": [
        "# Reinforcement Learning Path-Finder\n",
        "\n",
        "Todos:\n",
        "* State representation more compact and independent of room size - maybe rearrange locality by future move reach (diamond shape) and track position as sequence move directions\n",
        "* Fix back-tracking problem - maybe through move history as above\n",
        "* Improve visualisation f/w so we can see learning and action values @ each state\n",
        "* Port to alternative Solver class in open-spacial solution"
      ]
    },
    {
      "cell_type": "code",
      "metadata": {
        "id": "9or8V8zd21Hm",
        "colab_type": "code",
        "colab": {}
      },
      "source": [
        "import matplotlib.pyplot as plt\n",
        "import numpy as np\n",
        "import pandas as pd\n",
        "import random"
      ],
      "execution_count": 0,
      "outputs": []
    },
    {
      "cell_type": "markdown",
      "metadata": {
        "id": "Hv--SJA3VKhM",
        "colab_type": "text"
      },
      "source": [
        "# Setup Scenario"
      ]
    },
    {
      "cell_type": "code",
      "metadata": {
        "id": "OIY3syPt30Uh",
        "colab_type": "code",
        "colab": {}
      },
      "source": [
        "def get_room(rank):\n",
        "  return np.zeros((rank, rank), dtype=int)\n",
        "\n",
        "def get_random_source(room):\n",
        "  return random.choice(range(room.shape[0]))\n",
        "\n",
        "def apply_occupancy(room, ids):\n",
        "  [room.itemset(i, 1) for i in ids]\n",
        "\n",
        "def apply_random_occupancy(room, source, p):\n",
        "  open_desks = list(range(room.size))\n",
        "  open_desks.remove(source)\n",
        "  ids = random.sample(open_desks, int(round(p * len(open_desks))))\n",
        "  apply_occupancy(room, ids)\n",
        "\n",
        "def generate_random_scenario(rank, p):\n",
        "  room = get_room(rank)\n",
        "  source = get_source(room)\n",
        "  apply_random_occupancy(room, source, p)\n",
        "  return room, source\n",
        "\n",
        "def draw_room(room, path=None):\n",
        "  dr = room.copy()\n",
        "  if path: [dr.itemset(p, -1) for p in path]\n",
        "  plt.imshow(dr, vmin=-1, vmax=1, origin='lower')\n",
        "  plt.show()"
      ],
      "execution_count": 0,
      "outputs": []
    },
    {
      "cell_type": "markdown",
      "metadata": {
        "id": "Y6KkS6iDU3TO",
        "colab_type": "text"
      },
      "source": [
        "# Utility"
      ]
    },
    {
      "cell_type": "code",
      "metadata": {
        "id": "EwyQIG5SUKWj",
        "colab_type": "code",
        "colab": {}
      },
      "source": [
        "def i2v(room, i):\n",
        "  rank = room.shape[0]\n",
        "  return (i // rank, i % rank)\n",
        "\n",
        "def v2i(room, v):\n",
        "  rank = room.shape[0]\n",
        "  return v[0] * rank + v[1]\n",
        "\n",
        "def is_front_row(room, i):\n",
        "  rank = room.shape[0]\n",
        "  return i // rank == rank - 1\n",
        "\n",
        "def is_back_row(room, i):\n",
        "  rank = room.shape[0]\n",
        "  return i // rank == 0\n",
        "\n",
        "def is_left_col(room, i):\n",
        "  rank = room.shape[0]\n",
        "  return i % rank == 0\n",
        "\n",
        "def is_right_col(room, i):\n",
        "  rank = room.shape[0]\n",
        "  return i % rank == rank - 1\n",
        "\n",
        "def row_fore(room, i):\n",
        "  rank = room.shape[0]\n",
        "  return i + rank\n",
        "\n",
        "def row_back(room, i):\n",
        "  rank = room.shape[0]\n",
        "  return i - rank\n",
        "\n",
        "def col_left(room, i):\n",
        "  return i - 1\n",
        "\n",
        "def col_right(room, i):\n",
        "  rank = room.shape[0]\n",
        "  return i + 1\n",
        "\n",
        "def inbounds(room, v):\n",
        "  return v[0] >= 0 and v[0] < room.shape[0] and v[1] >= 0 and v[1] < room.shape[1] "
      ],
      "execution_count": 0,
      "outputs": []
    },
    {
      "cell_type": "markdown",
      "metadata": {
        "id": "2KyoZgSeV7rN",
        "colab_type": "text"
      },
      "source": [
        "# Environment, Actions and Agent"
      ]
    },
    {
      "cell_type": "code",
      "metadata": {
        "id": "4Hwyzm8IQ7iV",
        "colab_type": "code",
        "outputId": "9dff08a3-daeb-4327-e948-7785f94f3a31",
        "colab": {
          "base_uri": "https://localhost:8080/",
          "height": 269
        }
      },
      "source": [
        "room = get_room(4)\n",
        "apply_occupancy(room, [4, 5, 6])\n",
        "apply_occupancy(room, [13, 14, 15])\n",
        "source = 0\n",
        "\n",
        "draw_room(room)"
      ],
      "execution_count": 4,
      "outputs": [
        {
          "output_type": "display_data",
          "data": {
            "image/png": "[encoded data removed]",
            "text/plain": [
              "<Figure size 432x288 with 1 Axes>"
            ]
          },
          "metadata": {
            "tags": [],
            "needs_background": "light"
          }
        }
      ]
    },
    {
      "cell_type": "code",
      "metadata": {
        "id": "X6ftw8A3-sXx",
        "colab_type": "code",
        "colab": {
          "base_uri": "https://localhost:8080/",
          "height": 269
        },
        "outputId": "7e9a4979-37d7-42aa-d9ab-43fa731dfb13"
      },
      "source": [
        "def get_extent(margin):\n",
        "  return 2 * margin + 1\n",
        "\n",
        "def get_locality(room, pos, margin):\n",
        "  o_r = i2v(room, pos)[0] - margin\n",
        "  o_c = i2v(room, pos)[1] - margin\n",
        "  extent = get_extent(margin)\n",
        "  locality = np.zeros((extent, extent), dtype=int)\n",
        "  for i in range(extent):\n",
        "    r = o_r + i\n",
        "    for j in range(extent):\n",
        "      c = o_c + j\n",
        "      if inbounds(room, (r, c)):\n",
        "        locality[i][j] = room[r][c]\n",
        "      else:\n",
        "        locality[i][j] = 1\n",
        "  return locality\n",
        "\n",
        "loc = get_locality(room, 12, 1)\n",
        "\n",
        "draw_room(loc)"
      ],
      "execution_count": 5,
      "outputs": [
        {
          "output_type": "display_data",
          "data": {
            "image/png": "[encoded data removed]",
            "text/plain": [
              "<Figure size 432x288 with 1 Axes>"
            ]
          },
          "metadata": {
            "tags": [],
            "needs_background": "light"
          }
        }
      ]
    },
    {
      "cell_type": "code",
      "metadata": {
        "id": "3upAn-iPWdqM",
        "colab_type": "code",
        "outputId": "7090a570-97cc-4a87-df68-b0609cc0fef6",
        "colab": {
          "base_uri": "https://localhost:8080/",
          "height": 51
        }
      },
      "source": [
        "def get_region_state_id(region):\n",
        "  rsi = sum([2 ** (region.size - 1 - i) * r for i, r in enumerate(region.flatten())])\n",
        "  return int(rsi)\n",
        "\n",
        "print(get_region_state_id(room))\n",
        "print(get_region_state_id(loc))"
      ],
      "execution_count": 6,
      "outputs": [
        {
          "output_type": "stream",
          "text": [
            "3591\n",
            "303\n"
          ],
          "name": "stdout"
        }
      ]
    },
    {
      "cell_type": "code",
      "metadata": {
        "id": "rsnNWX1Edd49",
        "colab_type": "code",
        "outputId": "fc655dbb-cd05-4636-efe9-d7b5f7129c93",
        "colab": {
          "base_uri": "https://localhost:8080/",
          "height": 34
        }
      },
      "source": [
        "def get_state_id(room, region, pos):\n",
        "  region_state_id = get_region_state_id(region)\n",
        "  return pos + room.size * region_state_id\n",
        "\n",
        "def get_pos_from_state(room, state):\n",
        "  return state % room.size\n",
        "\n",
        "def get_region_from_state(room, state):\n",
        "  return state // room.size\n",
        "\n",
        "def one_hot_position(room, pos):\n",
        "  return np.eye(room.size, dtype=int)[pos]\n",
        "\n",
        "print(get_state_id(room, loc, 0))"
      ],
      "execution_count": 7,
      "outputs": [
        {
          "output_type": "stream",
          "text": [
            "4848\n"
          ],
          "name": "stdout"
        }
      ]
    },
    {
      "cell_type": "code",
      "metadata": {
        "id": "xDBcVa8NWCIW",
        "colab_type": "code",
        "colab": {}
      },
      "source": [
        "# actions - cardinal directions clockwise from 12 as per problem statement\n",
        "actions = range(4)\n",
        "\n",
        "def move_options(room, i):\n",
        "  blocked = np.zeros(4)\n",
        "  blocked[0] = is_front_row(room, i) or room.item(row_fore(room, i))\n",
        "  blocked[1] = is_right_col(room, i) or room.item(col_right(room, i))\n",
        "  blocked[2] = is_back_row(room, i) or room.item(row_back(room, i))\n",
        "  blocked[3] = is_left_col(room, i) or room.item(col_left(room, i))\n",
        "  return np.logical_not(blocked)\n",
        "\n",
        "move_fn = [row_fore, col_right, row_back, col_left]\n",
        "\n",
        "# decided to not move anywhere if you try to move through block\n",
        "# there are alternative ways to do this (eg, more semantic actions, fail)\n",
        "def next_state(room, margin, state, action):\n",
        "  i = get_pos_from_state(room, state)\n",
        "  ni = move_fn[action](room, i) if move_options(room, i)[action] else i\n",
        "  nloc = get_locality(room, ni, margin)\n",
        "  return get_state_id(room, nloc, ni)\n",
        "\n",
        "def is_goal(room, state):\n",
        "  return is_front_row(room, get_pos_from_state(room, state))\n",
        "\n",
        "def reward(room, state, action=None, next_state=None):\n",
        "  r = 0\n",
        "  if is_goal(room, state):\n",
        "    r = 1\n",
        "  return r"
      ],
      "execution_count": 0,
      "outputs": []
    },
    {
      "cell_type": "markdown",
      "metadata": {
        "id": "oO3gQWvZmbY5",
        "colab_type": "text"
      },
      "source": [
        "# Q-Learning"
      ]
    },
    {
      "cell_type": "code",
      "metadata": {
        "id": "5SmCv0Wqhxe6",
        "colab_type": "code",
        "outputId": "4747c3f5-4d81-4c8d-9a0d-9dd24215d7c3",
        "colab": {
          "base_uri": "https://localhost:8080/",
          "height": 286
        }
      },
      "source": [
        "margin = 1\n",
        "region_size = get_extent(margin) ** 2\n",
        "\n",
        "room_rank = 4\n",
        "occ_prop = 0.2\n",
        "\n",
        "num_states = (2 ** region_size) * room_rank ** 2\n",
        "print(num_states)\n",
        "\n",
        "q_table = np.zeros((num_states, len(actions)))\n",
        "\n",
        "plt.imshow(q_table, origin='lower', aspect='auto')\n",
        "plt.colorbar()\n",
        "plt.show()"
      ],
      "execution_count": 43,
      "outputs": [
        {
          "output_type": "stream",
          "text": [
            "8192\n"
          ],
          "name": "stdout"
        },
        {
          "output_type": "display_data",
          "data": {
            "image/png": "[encoded data removed]",
            "text/plain": [
              "<Figure size 432x288 with 2 Axes>"
            ]
          },
          "metadata": {
            "tags": [],
            "needs_background": "light"
          }
        }
      ]
    },
    {
      "cell_type": "code",
      "metadata": {
        "id": "O1gwsx90oJ1l",
        "colab_type": "code",
        "colab": {}
      },
      "source": [
        "def action_table(state):\n",
        "  values = q_table[state]\n",
        "  return np.argmax(values)"
      ],
      "execution_count": 0,
      "outputs": []
    },
    {
      "cell_type": "code",
      "metadata": {
        "id": "rDbrMf0PmYOq",
        "colab_type": "code",
        "colab": {}
      },
      "source": [
        "# learning loop\n",
        "\n",
        "eps = 0.2\n",
        "alpha = 0.2\n",
        "gamma = 0.3\n",
        "\n",
        "episodes = 10000\n",
        "steps = 50\n",
        "for n in range(episodes):\n",
        "  room = get_room(room_rank)\n",
        "  pos = get_random_source(room)\n",
        "  apply_random_occupancy(room, pos, occ_prop)\n",
        "  loc = get_locality(room, pos, margin)\n",
        "  s = get_state_id(room, loc, pos)\n",
        "  for t in range(steps):\n",
        "    # action & reward\n",
        "    action = random.choice(actions)\n",
        "    if random.random() > eps:\n",
        "      action = np.argmax(q_table[s])\n",
        "    sn = next_state(room, margin, s, action)\n",
        "    r = reward(room, s, next_state=sn)\n",
        "    \n",
        "    if (sn != s or is_goal(room, s)):\n",
        "      #print('Update q_table for ep {} step {} state {} action {} reward {}'.format(n, t, s, action, r))\n",
        "      # update q-table\n",
        "      q_future_est = np.amax(q_table[sn])\n",
        "      new_val = r + gamma * q_future_est\n",
        "      old_val = q_table[s][action]\n",
        "      learning = alpha * (new_val - old_val)\n",
        "      q_table[s][action] = old_val + learning\n",
        "      #print('With QFE {} update from {} with {} to {}'.format(q_future_est, old_val, learning, q_table[s][action]))\n",
        "\n",
        "    # finish or loop\n",
        "    if is_goal(room, s):\n",
        "      break\n",
        "    s = sn\n",
        "\n"
      ],
      "execution_count": 0,
      "outputs": []
    },
    {
      "cell_type": "code",
      "metadata": {
        "id": "DALx5DU1jBBv",
        "colab_type": "code",
        "outputId": "0e236c44-5abd-4017-a2bb-14394b901c2f",
        "colab": {
          "base_uri": "https://localhost:8080/",
          "height": 265
        }
      },
      "source": [
        "plt.imshow(q_table, origin='lower', aspect='auto')\n",
        "plt.colorbar()\n",
        "plt.show()\n"
      ],
      "execution_count": 45,
      "outputs": [
        {
          "output_type": "display_data",
          "data": {
            "image/png": "[encoded data removed]",
            "text/plain": [
              "<Figure size 432x288 with 2 Axes>"
            ]
          },
          "metadata": {
            "tags": [],
            "needs_background": "light"
          }
        }
      ]
    },
    {
      "cell_type": "code",
      "metadata": {
        "id": "_tZ69tfmjeIu",
        "colab_type": "code",
        "outputId": "48642346-f8fc-4c5f-f0ec-9b5c10f10240",
        "colab": {
          "base_uri": "https://localhost:8080/",
          "height": 286
        }
      },
      "source": [
        "room = get_room(room_rank)\n",
        "pos = get_random_source(room)\n",
        "apply_random_occupancy(room, pos, occ_prop)\n",
        "\n",
        "loc = get_locality(room, pos, margin)\n",
        "s = get_state_id(room, loc, pos)\n",
        "path = [get_pos_from_state(room, s)]\n",
        "for t in range(20):\n",
        "  a = action_table(s)\n",
        "  s = next_state(room, margin, s, a) \n",
        "  path.append(get_pos_from_state(room, s))\n",
        "  if is_goal(room, s):\n",
        "    break\n",
        "\n",
        "print(\"R? {} - path {}\".format(is_goal(room, s), path))\n",
        "draw_room(room, path)"
      ],
      "execution_count": 55,
      "outputs": [
        {
          "output_type": "stream",
          "text": [
            "R? True - path [1, 5, 9, 8, 12]\n"
          ],
          "name": "stdout"
        },
        {
          "output_type": "display_data",
          "data": {
            "image/png": "[encoded data removed]",
            "text/plain": [
              "<Figure size 432x288 with 1 Axes>"
            ]
          },
          "metadata": {
            "tags": [],
            "needs_background": "light"
          }
        }
      ]
    }
  ]
}